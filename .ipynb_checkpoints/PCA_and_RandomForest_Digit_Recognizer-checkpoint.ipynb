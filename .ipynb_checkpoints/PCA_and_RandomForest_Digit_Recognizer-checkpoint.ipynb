{
 "cells": [
  {
   "cell_type": "code",
   "execution_count": 1,
   "metadata": {},
   "outputs": [],
   "source": [
    "import numpy as np\n",
    "import pandas as pd\n",
    "from sklearn.ensemble import RandomForestClassifier\n",
    "from datetime import datetime"
   ]
  },
  {
   "cell_type": "code",
   "execution_count": null,
   "metadata": {},
   "outputs": [],
   "source": []
  },
  {
   "cell_type": "code",
   "execution_count": 2,
   "metadata": {},
   "outputs": [],
   "source": [
    "raw_train_data = pd.read_csv('train_MINST.csv/train.csv')\n",
    "raw_train_data.head()\n",
    "\n",
    "test_data = pd.read_csv('test_MINST.csv/test.csv')\n"
   ]
  },
  {
   "cell_type": "code",
   "execution_count": 3,
   "metadata": {},
   "outputs": [
    {
     "data": {
      "text/plain": [
       "0    1\n",
       "1    0\n",
       "2    1\n",
       "3    4\n",
       "4    0\n",
       "Name: label, dtype: int64"
      ]
     },
     "execution_count": 3,
     "metadata": {},
     "output_type": "execute_result"
    }
   ],
   "source": [
    "y_train = raw_train_data.label\n",
    "y_train.head()"
   ]
  },
  {
   "cell_type": "code",
   "execution_count": 4,
   "metadata": {},
   "outputs": [
    {
     "data": {
      "text/html": [
       "<div>\n",
       "<style scoped>\n",
       "    .dataframe tbody tr th:only-of-type {\n",
       "        vertical-align: middle;\n",
       "    }\n",
       "\n",
       "    .dataframe tbody tr th {\n",
       "        vertical-align: top;\n",
       "    }\n",
       "\n",
       "    .dataframe thead th {\n",
       "        text-align: right;\n",
       "    }\n",
       "</style>\n",
       "<table border=\"1\" class=\"dataframe\">\n",
       "  <thead>\n",
       "    <tr style=\"text-align: right;\">\n",
       "      <th></th>\n",
       "      <th>pixel0</th>\n",
       "      <th>pixel1</th>\n",
       "      <th>pixel2</th>\n",
       "      <th>pixel3</th>\n",
       "      <th>pixel4</th>\n",
       "      <th>pixel5</th>\n",
       "      <th>pixel6</th>\n",
       "      <th>pixel7</th>\n",
       "      <th>pixel8</th>\n",
       "      <th>pixel9</th>\n",
       "      <th>...</th>\n",
       "      <th>pixel774</th>\n",
       "      <th>pixel775</th>\n",
       "      <th>pixel776</th>\n",
       "      <th>pixel777</th>\n",
       "      <th>pixel778</th>\n",
       "      <th>pixel779</th>\n",
       "      <th>pixel780</th>\n",
       "      <th>pixel781</th>\n",
       "      <th>pixel782</th>\n",
       "      <th>pixel783</th>\n",
       "    </tr>\n",
       "  </thead>\n",
       "  <tbody>\n",
       "    <tr>\n",
       "      <td>0</td>\n",
       "      <td>0</td>\n",
       "      <td>0</td>\n",
       "      <td>0</td>\n",
       "      <td>0</td>\n",
       "      <td>0</td>\n",
       "      <td>0</td>\n",
       "      <td>0</td>\n",
       "      <td>0</td>\n",
       "      <td>0</td>\n",
       "      <td>0</td>\n",
       "      <td>...</td>\n",
       "      <td>0</td>\n",
       "      <td>0</td>\n",
       "      <td>0</td>\n",
       "      <td>0</td>\n",
       "      <td>0</td>\n",
       "      <td>0</td>\n",
       "      <td>0</td>\n",
       "      <td>0</td>\n",
       "      <td>0</td>\n",
       "      <td>0</td>\n",
       "    </tr>\n",
       "    <tr>\n",
       "      <td>1</td>\n",
       "      <td>0</td>\n",
       "      <td>0</td>\n",
       "      <td>0</td>\n",
       "      <td>0</td>\n",
       "      <td>0</td>\n",
       "      <td>0</td>\n",
       "      <td>0</td>\n",
       "      <td>0</td>\n",
       "      <td>0</td>\n",
       "      <td>0</td>\n",
       "      <td>...</td>\n",
       "      <td>0</td>\n",
       "      <td>0</td>\n",
       "      <td>0</td>\n",
       "      <td>0</td>\n",
       "      <td>0</td>\n",
       "      <td>0</td>\n",
       "      <td>0</td>\n",
       "      <td>0</td>\n",
       "      <td>0</td>\n",
       "      <td>0</td>\n",
       "    </tr>\n",
       "    <tr>\n",
       "      <td>2</td>\n",
       "      <td>0</td>\n",
       "      <td>0</td>\n",
       "      <td>0</td>\n",
       "      <td>0</td>\n",
       "      <td>0</td>\n",
       "      <td>0</td>\n",
       "      <td>0</td>\n",
       "      <td>0</td>\n",
       "      <td>0</td>\n",
       "      <td>0</td>\n",
       "      <td>...</td>\n",
       "      <td>0</td>\n",
       "      <td>0</td>\n",
       "      <td>0</td>\n",
       "      <td>0</td>\n",
       "      <td>0</td>\n",
       "      <td>0</td>\n",
       "      <td>0</td>\n",
       "      <td>0</td>\n",
       "      <td>0</td>\n",
       "      <td>0</td>\n",
       "    </tr>\n",
       "    <tr>\n",
       "      <td>3</td>\n",
       "      <td>0</td>\n",
       "      <td>0</td>\n",
       "      <td>0</td>\n",
       "      <td>0</td>\n",
       "      <td>0</td>\n",
       "      <td>0</td>\n",
       "      <td>0</td>\n",
       "      <td>0</td>\n",
       "      <td>0</td>\n",
       "      <td>0</td>\n",
       "      <td>...</td>\n",
       "      <td>0</td>\n",
       "      <td>0</td>\n",
       "      <td>0</td>\n",
       "      <td>0</td>\n",
       "      <td>0</td>\n",
       "      <td>0</td>\n",
       "      <td>0</td>\n",
       "      <td>0</td>\n",
       "      <td>0</td>\n",
       "      <td>0</td>\n",
       "    </tr>\n",
       "    <tr>\n",
       "      <td>4</td>\n",
       "      <td>0</td>\n",
       "      <td>0</td>\n",
       "      <td>0</td>\n",
       "      <td>0</td>\n",
       "      <td>0</td>\n",
       "      <td>0</td>\n",
       "      <td>0</td>\n",
       "      <td>0</td>\n",
       "      <td>0</td>\n",
       "      <td>0</td>\n",
       "      <td>...</td>\n",
       "      <td>0</td>\n",
       "      <td>0</td>\n",
       "      <td>0</td>\n",
       "      <td>0</td>\n",
       "      <td>0</td>\n",
       "      <td>0</td>\n",
       "      <td>0</td>\n",
       "      <td>0</td>\n",
       "      <td>0</td>\n",
       "      <td>0</td>\n",
       "    </tr>\n",
       "  </tbody>\n",
       "</table>\n",
       "<p>5 rows × 784 columns</p>\n",
       "</div>"
      ],
      "text/plain": [
       "   pixel0  pixel1  pixel2  pixel3  pixel4  pixel5  pixel6  pixel7  pixel8  \\\n",
       "0       0       0       0       0       0       0       0       0       0   \n",
       "1       0       0       0       0       0       0       0       0       0   \n",
       "2       0       0       0       0       0       0       0       0       0   \n",
       "3       0       0       0       0       0       0       0       0       0   \n",
       "4       0       0       0       0       0       0       0       0       0   \n",
       "\n",
       "   pixel9  ...  pixel774  pixel775  pixel776  pixel777  pixel778  pixel779  \\\n",
       "0       0  ...         0         0         0         0         0         0   \n",
       "1       0  ...         0         0         0         0         0         0   \n",
       "2       0  ...         0         0         0         0         0         0   \n",
       "3       0  ...         0         0         0         0         0         0   \n",
       "4       0  ...         0         0         0         0         0         0   \n",
       "\n",
       "   pixel780  pixel781  pixel782  pixel783  \n",
       "0         0         0         0         0  \n",
       "1         0         0         0         0  \n",
       "2         0         0         0         0  \n",
       "3         0         0         0         0  \n",
       "4         0         0         0         0  \n",
       "\n",
       "[5 rows x 784 columns]"
      ]
     },
     "execution_count": 4,
     "metadata": {},
     "output_type": "execute_result"
    }
   ],
   "source": [
    "test_data.head()"
   ]
  },
  {
   "cell_type": "code",
   "execution_count": 5,
   "metadata": {},
   "outputs": [
    {
     "data": {
      "text/html": [
       "<div>\n",
       "<style scoped>\n",
       "    .dataframe tbody tr th:only-of-type {\n",
       "        vertical-align: middle;\n",
       "    }\n",
       "\n",
       "    .dataframe tbody tr th {\n",
       "        vertical-align: top;\n",
       "    }\n",
       "\n",
       "    .dataframe thead th {\n",
       "        text-align: right;\n",
       "    }\n",
       "</style>\n",
       "<table border=\"1\" class=\"dataframe\">\n",
       "  <thead>\n",
       "    <tr style=\"text-align: right;\">\n",
       "      <th></th>\n",
       "      <th>pixel0</th>\n",
       "      <th>pixel1</th>\n",
       "      <th>pixel2</th>\n",
       "      <th>pixel3</th>\n",
       "      <th>pixel4</th>\n",
       "      <th>pixel5</th>\n",
       "      <th>pixel6</th>\n",
       "      <th>pixel7</th>\n",
       "      <th>pixel8</th>\n",
       "      <th>pixel9</th>\n",
       "      <th>...</th>\n",
       "      <th>pixel774</th>\n",
       "      <th>pixel775</th>\n",
       "      <th>pixel776</th>\n",
       "      <th>pixel777</th>\n",
       "      <th>pixel778</th>\n",
       "      <th>pixel779</th>\n",
       "      <th>pixel780</th>\n",
       "      <th>pixel781</th>\n",
       "      <th>pixel782</th>\n",
       "      <th>pixel783</th>\n",
       "    </tr>\n",
       "  </thead>\n",
       "  <tbody>\n",
       "    <tr>\n",
       "      <td>0</td>\n",
       "      <td>0</td>\n",
       "      <td>0</td>\n",
       "      <td>0</td>\n",
       "      <td>0</td>\n",
       "      <td>0</td>\n",
       "      <td>0</td>\n",
       "      <td>0</td>\n",
       "      <td>0</td>\n",
       "      <td>0</td>\n",
       "      <td>0</td>\n",
       "      <td>...</td>\n",
       "      <td>0</td>\n",
       "      <td>0</td>\n",
       "      <td>0</td>\n",
       "      <td>0</td>\n",
       "      <td>0</td>\n",
       "      <td>0</td>\n",
       "      <td>0</td>\n",
       "      <td>0</td>\n",
       "      <td>0</td>\n",
       "      <td>0</td>\n",
       "    </tr>\n",
       "    <tr>\n",
       "      <td>1</td>\n",
       "      <td>0</td>\n",
       "      <td>0</td>\n",
       "      <td>0</td>\n",
       "      <td>0</td>\n",
       "      <td>0</td>\n",
       "      <td>0</td>\n",
       "      <td>0</td>\n",
       "      <td>0</td>\n",
       "      <td>0</td>\n",
       "      <td>0</td>\n",
       "      <td>...</td>\n",
       "      <td>0</td>\n",
       "      <td>0</td>\n",
       "      <td>0</td>\n",
       "      <td>0</td>\n",
       "      <td>0</td>\n",
       "      <td>0</td>\n",
       "      <td>0</td>\n",
       "      <td>0</td>\n",
       "      <td>0</td>\n",
       "      <td>0</td>\n",
       "    </tr>\n",
       "    <tr>\n",
       "      <td>2</td>\n",
       "      <td>0</td>\n",
       "      <td>0</td>\n",
       "      <td>0</td>\n",
       "      <td>0</td>\n",
       "      <td>0</td>\n",
       "      <td>0</td>\n",
       "      <td>0</td>\n",
       "      <td>0</td>\n",
       "      <td>0</td>\n",
       "      <td>0</td>\n",
       "      <td>...</td>\n",
       "      <td>0</td>\n",
       "      <td>0</td>\n",
       "      <td>0</td>\n",
       "      <td>0</td>\n",
       "      <td>0</td>\n",
       "      <td>0</td>\n",
       "      <td>0</td>\n",
       "      <td>0</td>\n",
       "      <td>0</td>\n",
       "      <td>0</td>\n",
       "    </tr>\n",
       "    <tr>\n",
       "      <td>3</td>\n",
       "      <td>0</td>\n",
       "      <td>0</td>\n",
       "      <td>0</td>\n",
       "      <td>0</td>\n",
       "      <td>0</td>\n",
       "      <td>0</td>\n",
       "      <td>0</td>\n",
       "      <td>0</td>\n",
       "      <td>0</td>\n",
       "      <td>0</td>\n",
       "      <td>...</td>\n",
       "      <td>0</td>\n",
       "      <td>0</td>\n",
       "      <td>0</td>\n",
       "      <td>0</td>\n",
       "      <td>0</td>\n",
       "      <td>0</td>\n",
       "      <td>0</td>\n",
       "      <td>0</td>\n",
       "      <td>0</td>\n",
       "      <td>0</td>\n",
       "    </tr>\n",
       "    <tr>\n",
       "      <td>4</td>\n",
       "      <td>0</td>\n",
       "      <td>0</td>\n",
       "      <td>0</td>\n",
       "      <td>0</td>\n",
       "      <td>0</td>\n",
       "      <td>0</td>\n",
       "      <td>0</td>\n",
       "      <td>0</td>\n",
       "      <td>0</td>\n",
       "      <td>0</td>\n",
       "      <td>...</td>\n",
       "      <td>0</td>\n",
       "      <td>0</td>\n",
       "      <td>0</td>\n",
       "      <td>0</td>\n",
       "      <td>0</td>\n",
       "      <td>0</td>\n",
       "      <td>0</td>\n",
       "      <td>0</td>\n",
       "      <td>0</td>\n",
       "      <td>0</td>\n",
       "    </tr>\n",
       "  </tbody>\n",
       "</table>\n",
       "<p>5 rows × 784 columns</p>\n",
       "</div>"
      ],
      "text/plain": [
       "   pixel0  pixel1  pixel2  pixel3  pixel4  pixel5  pixel6  pixel7  pixel8  \\\n",
       "0       0       0       0       0       0       0       0       0       0   \n",
       "1       0       0       0       0       0       0       0       0       0   \n",
       "2       0       0       0       0       0       0       0       0       0   \n",
       "3       0       0       0       0       0       0       0       0       0   \n",
       "4       0       0       0       0       0       0       0       0       0   \n",
       "\n",
       "   pixel9  ...  pixel774  pixel775  pixel776  pixel777  pixel778  pixel779  \\\n",
       "0       0  ...         0         0         0         0         0         0   \n",
       "1       0  ...         0         0         0         0         0         0   \n",
       "2       0  ...         0         0         0         0         0         0   \n",
       "3       0  ...         0         0         0         0         0         0   \n",
       "4       0  ...         0         0         0         0         0         0   \n",
       "\n",
       "   pixel780  pixel781  pixel782  pixel783  \n",
       "0         0         0         0         0  \n",
       "1         0         0         0         0  \n",
       "2         0         0         0         0  \n",
       "3         0         0         0         0  \n",
       "4         0         0         0         0  \n",
       "\n",
       "[5 rows x 784 columns]"
      ]
     },
     "execution_count": 5,
     "metadata": {},
     "output_type": "execute_result"
    }
   ],
   "source": [
    "X_train = raw_train_data.loc[:,'pixel0':]\n",
    "X_train.head()"
   ]
  },
  {
   "cell_type": "code",
   "execution_count": 6,
   "metadata": {
    "scrolled": true
   },
   "outputs": [
    {
     "data": {
      "text/plain": [
       "(42000, 784)"
      ]
     },
     "execution_count": 6,
     "metadata": {},
     "output_type": "execute_result"
    }
   ],
   "source": [
    "X_train.shape"
   ]
  },
  {
   "cell_type": "code",
   "execution_count": 7,
   "metadata": {},
   "outputs": [
    {
     "data": {
      "text/plain": [
       "(28000, 784)"
      ]
     },
     "execution_count": 7,
     "metadata": {},
     "output_type": "execute_result"
    }
   ],
   "source": [
    "test_data.shape"
   ]
  },
  {
   "cell_type": "code",
   "execution_count": 8,
   "metadata": {},
   "outputs": [
    {
     "data": {
      "text/plain": [
       "(70000, 784)"
      ]
     },
     "execution_count": 8,
     "metadata": {},
     "output_type": "execute_result"
    }
   ],
   "source": [
    "X_traintest = pd.concat([X_train,test_data],ignore_index=True)\n",
    "X_traintest.shape"
   ]
  },
  {
   "cell_type": "code",
   "execution_count": 9,
   "metadata": {
    "scrolled": true
   },
   "outputs": [
    {
     "data": {
      "text/plain": [
       "255.0"
      ]
     },
     "execution_count": 9,
     "metadata": {},
     "output_type": "execute_result"
    }
   ],
   "source": [
    "max(X_traintest.describe().loc['max'])"
   ]
  },
  {
   "cell_type": "code",
   "execution_count": 10,
   "metadata": {
    "scrolled": true
   },
   "outputs": [
    {
     "data": {
      "text/plain": [
       "1    4684\n",
       "7    4401\n",
       "3    4351\n",
       "9    4188\n",
       "2    4177\n",
       "6    4137\n",
       "0    4132\n",
       "4    4072\n",
       "8    4063\n",
       "5    3795\n",
       "Name: label, dtype: int64"
      ]
     },
     "execution_count": 10,
     "metadata": {},
     "output_type": "execute_result"
    }
   ],
   "source": [
    "raw_train_data.label.value_counts()"
   ]
  },
  {
   "cell_type": "code",
   "execution_count": 11,
   "metadata": {},
   "outputs": [
    {
     "name": "stdout",
     "output_type": "stream",
     "text": [
      "<class 'pandas.core.frame.DataFrame'>\n",
      "RangeIndex: 70000 entries, 0 to 69999\n",
      "Columns: 784 entries, pixel0 to pixel783\n",
      "dtypes: int64(784)\n",
      "memory usage: 418.7 MB\n"
     ]
    }
   ],
   "source": [
    "X_traintest.info()"
   ]
  },
  {
   "cell_type": "code",
   "execution_count": 12,
   "metadata": {},
   "outputs": [
    {
     "name": "stdout",
     "output_type": "stream",
     "text": [
      "<class 'pandas.core.frame.DataFrame'>\n",
      "RangeIndex: 70000 entries, 0 to 69999\n",
      "Columns: 784 entries, pixel0 to pixel783\n",
      "dtypes: int64(784)\n",
      "memory usage: 418.7 MB\n"
     ]
    }
   ],
   "source": [
    "X_traintest.info()"
   ]
  },
  {
   "cell_type": "code",
   "execution_count": 13,
   "metadata": {},
   "outputs": [
    {
     "data": {
      "text/plain": [
       "28.0"
      ]
     },
     "execution_count": 13,
     "metadata": {},
     "output_type": "execute_result"
    }
   ],
   "source": [
    "np.sqrt(784)"
   ]
  },
  {
   "cell_type": "code",
   "execution_count": 14,
   "metadata": {},
   "outputs": [],
   "source": [
    "rfc = RandomForestClassifier(n_estimators = 10, max_features=None,random_state = 0, bootstrap=True)"
   ]
  },
  {
   "cell_type": "code",
   "execution_count": null,
   "metadata": {},
   "outputs": [],
   "source": []
  },
  {
   "cell_type": "code",
   "execution_count": 15,
   "metadata": {},
   "outputs": [
    {
     "ename": "NameError",
     "evalue": "name 'X_train_scld' is not defined",
     "output_type": "error",
     "traceback": [
      "\u001b[1;31m---------------------------------------------------------------------------\u001b[0m",
      "\u001b[1;31mNameError\u001b[0m                                 Traceback (most recent call last)",
      "\u001b[1;32m<ipython-input-15-7348a0e18fa3>\u001b[0m in \u001b[0;36m<module>\u001b[1;34m\u001b[0m\n\u001b[0;32m      1\u001b[0m \u001b[0mstart\u001b[0m\u001b[1;33m=\u001b[0m\u001b[0mdatetime\u001b[0m\u001b[1;33m.\u001b[0m\u001b[0mnow\u001b[0m\u001b[1;33m(\u001b[0m\u001b[1;33m)\u001b[0m\u001b[1;33m\u001b[0m\u001b[1;33m\u001b[0m\u001b[0m\n\u001b[1;32m----> 2\u001b[1;33m \u001b[0mrfc\u001b[0m\u001b[1;33m.\u001b[0m\u001b[0mfit\u001b[0m\u001b[1;33m(\u001b[0m\u001b[0mX\u001b[0m\u001b[1;33m=\u001b[0m\u001b[0mX_train_scld\u001b[0m\u001b[1;33m,\u001b[0m\u001b[0my\u001b[0m\u001b[1;33m=\u001b[0m\u001b[0my_train\u001b[0m\u001b[1;33m)\u001b[0m\u001b[1;33m\u001b[0m\u001b[1;33m\u001b[0m\u001b[0m\n\u001b[0m\u001b[0;32m      3\u001b[0m \u001b[0mend\u001b[0m\u001b[1;33m=\u001b[0m\u001b[0mdatetime\u001b[0m\u001b[1;33m.\u001b[0m\u001b[0mnow\u001b[0m\u001b[1;33m(\u001b[0m\u001b[1;33m)\u001b[0m\u001b[1;33m\u001b[0m\u001b[1;33m\u001b[0m\u001b[0m\n\u001b[0;32m      4\u001b[0m \u001b[0mprint\u001b[0m\u001b[1;33m(\u001b[0m\u001b[0mend\u001b[0m\u001b[1;33m-\u001b[0m\u001b[0mstart\u001b[0m\u001b[1;33m)\u001b[0m\u001b[1;33m\u001b[0m\u001b[1;33m\u001b[0m\u001b[0m\n",
      "\u001b[1;31mNameError\u001b[0m: name 'X_train_scld' is not defined"
     ]
    }
   ],
   "source": [
    "start=datetime.now()\n",
    "rfc.fit(X=X_train_scld,y=y_train)\n",
    "end=datetime.now()\n",
    "print(end-start)"
   ]
  },
  {
   "cell_type": "code",
   "execution_count": 57,
   "metadata": {},
   "outputs": [
    {
     "data": {
      "text/plain": [
       "(28000,)"
      ]
     },
     "execution_count": 57,
     "metadata": {},
     "output_type": "execute_result"
    }
   ],
   "source": [
    "y_test = rfc.predict(test_data)\n",
    "y_test.shape"
   ]
  },
  {
   "cell_type": "code",
   "execution_count": 12,
   "metadata": {},
   "outputs": [
    {
     "name": "stdout",
     "output_type": "stream",
     "text": [
      "range(1, 28000)\n"
     ]
    }
   ],
   "source": [
    "print(range(1,28000))"
   ]
  },
  {
   "cell_type": "code",
   "execution_count": 13,
   "metadata": {
    "scrolled": true
   },
   "outputs": [
    {
     "data": {
      "text/html": [
       "<div>\n",
       "<style scoped>\n",
       "    .dataframe tbody tr th:only-of-type {\n",
       "        vertical-align: middle;\n",
       "    }\n",
       "\n",
       "    .dataframe tbody tr th {\n",
       "        vertical-align: top;\n",
       "    }\n",
       "\n",
       "    .dataframe thead th {\n",
       "        text-align: right;\n",
       "    }\n",
       "</style>\n",
       "<table border=\"1\" class=\"dataframe\">\n",
       "  <thead>\n",
       "    <tr style=\"text-align: right;\">\n",
       "      <th></th>\n",
       "      <th>Label</th>\n",
       "    </tr>\n",
       "    <tr>\n",
       "      <th>ImageId</th>\n",
       "      <th></th>\n",
       "    </tr>\n",
       "  </thead>\n",
       "  <tbody>\n",
       "    <tr>\n",
       "      <th>1</th>\n",
       "      <td>2</td>\n",
       "    </tr>\n",
       "    <tr>\n",
       "      <th>2</th>\n",
       "      <td>0</td>\n",
       "    </tr>\n",
       "    <tr>\n",
       "      <th>3</th>\n",
       "      <td>9</td>\n",
       "    </tr>\n",
       "    <tr>\n",
       "      <th>4</th>\n",
       "      <td>9</td>\n",
       "    </tr>\n",
       "    <tr>\n",
       "      <th>5</th>\n",
       "      <td>3</td>\n",
       "    </tr>\n",
       "  </tbody>\n",
       "</table>\n",
       "</div>"
      ],
      "text/plain": [
       "         Label\n",
       "ImageId       \n",
       "1            2\n",
       "2            0\n",
       "3            9\n",
       "4            9\n",
       "5            3"
      ]
     },
     "execution_count": 13,
     "metadata": {},
     "output_type": "execute_result"
    }
   ],
   "source": [
    "test_output = pd.DataFrame(y_test,index=range(1,28001))\n",
    "test_output.index.name = 'ImageId'\n",
    "test_output.columns = ['Label']\n",
    "\n",
    "test_output.head()"
   ]
  },
  {
   "cell_type": "code",
   "execution_count": 14,
   "metadata": {},
   "outputs": [],
   "source": [
    "test_output.to_csv('MINST_submission.csv',index=True)"
   ]
  },
  {
   "cell_type": "code",
   "execution_count": 15,
   "metadata": {
    "scrolled": true
   },
   "outputs": [],
   "source": [
    "from sklearn.decomposition import PCA\n"
   ]
  },
  {
   "cell_type": "code",
   "execution_count": 16,
   "metadata": {},
   "outputs": [],
   "source": [
    "import matplotlib.pyplot as plt\n",
    "import seaborn as sns; sns.set()"
   ]
  },
  {
   "cell_type": "code",
   "execution_count": 17,
   "metadata": {},
   "outputs": [],
   "source": [
    "from sklearn.preprocessing import StandardScaler"
   ]
  },
  {
   "cell_type": "code",
   "execution_count": 18,
   "metadata": {},
   "outputs": [],
   "source": [
    "X_traintest_std = StandardScaler().fit_transform(X_traintest)"
   ]
  },
  {
   "cell_type": "code",
   "execution_count": 19,
   "metadata": {},
   "outputs": [
    {
     "name": "stdout",
     "output_type": "stream",
     "text": [
      "0:00:17.068320\n"
     ]
    }
   ],
   "source": [
    "start=datetime.now()\n",
    "pca = PCA().fit(X_traintest_std)\n",
    "end=datetime.now()\n",
    "print(end-start)"
   ]
  },
  {
   "cell_type": "code",
   "execution_count": 20,
   "metadata": {},
   "outputs": [
    {
     "data": {
      "text/plain": [
       "[<matplotlib.lines.Line2D at 0x23941489748>]"
      ]
     },
     "execution_count": 20,
     "metadata": {},
     "output_type": "execute_result"
    },
    {
     "data": {
      "image/png": "[encoded data removed]",
      "text/plain": [
       "<matplotlib.figure.Figure at 0x23940c8a198>"
      ]
     },
     "metadata": {},
     "output_type": "display_data"
    }
   ],
   "source": [
    "plt.plot(np.cumsum(pca.explained_variance_ratio_))"
   ]
  },
  {
   "cell_type": "code",
   "execution_count": 21,
   "metadata": {},
   "outputs": [
    {
     "data": {
      "text/plain": [
       "array([0.05642719, 0.09683945, 0.13422218, 0.16315218, 0.1883597 ,\n",
       "       0.21028519, 0.22942801, 0.24683484, 0.26215716, 0.27611803,\n",
       "       0.28953978, 0.30155399, 0.31269361, 0.32359943, 0.33387928,\n",
       "       0.34382883, 0.35314139, 0.36233773, 0.37122373, 0.37985569,\n",
       "       0.3880731 , 0.39605727, 0.403683  , 0.41110615, 0.41827185,\n",
       "       0.42516499, 0.43197898, 0.43852485, 0.44479779, 0.45090124,\n",
       "       0.45687385, 0.46276689, 0.46844047, 0.47403405, 0.47955878,\n",
       "       0.48490321, 0.49017915, 0.49533756, 0.50039254, 0.50516692,\n",
       "       0.50993004, 0.51458159, 0.51911613, 0.5235737 , 0.52799683,\n",
       "       0.5323756 , 0.53674853, 0.54102577, 0.54527385, 0.54945909,\n",
       "       0.55349969, 0.55746227, 0.56139402, 0.56529964, 0.56916408,\n",
       "       0.57293908, 0.57667791, 0.5803612 , 0.58396497, 0.58752866,\n",
       "       0.59102155, 0.59446682, 0.59789921, 0.60130921, 0.60465384,\n",
       "       0.60797491, 0.61127295, 0.61446728, 0.61763838, 0.62079269,\n",
       "       0.62389209, 0.62694992, 0.63000087, 0.63304047, 0.63600682,\n",
       "       0.6389364 , 0.64184935, 0.64475167, 0.64763776, 0.65050798,\n",
       "       0.65335312, 0.65616836, 0.65896081, 0.6617471 , 0.66452943,\n",
       "       0.66729676, 0.67005095, 0.67277997, 0.67546736, 0.67814875,\n",
       "       0.68082229, 0.68345233, 0.68607387, 0.68866259, 0.69124688,\n",
       "       0.69381788, 0.69633688, 0.69884592, 0.70132685, 0.70376778,\n",
       "       0.70620385, 0.70862056, 0.71101055, 0.7133745 , 0.71573082,\n",
       "       0.71805408, 0.72034559, 0.72259851, 0.72483742, 0.72706962,\n",
       "       0.72926676, 0.73145701, 0.73361004, 0.73574451, 0.73785214,\n",
       "       0.73995337, 0.74201863, 0.74406936, 0.74609841, 0.74808748,\n",
       "       0.75006346, 0.75202934, 0.75398327, 0.75592873, 0.75785706,\n",
       "       0.75977212, 0.76166471, 0.76354872, 0.76541176, 0.76723066,\n",
       "       0.76903742, 0.7708275 , 0.77261157, 0.77438156, 0.77614008,\n",
       "       0.77788788, 0.77962092, 0.78134893, 0.78304325, 0.78471973,\n",
       "       0.78637828, 0.78802803, 0.78967406, 0.79131555, 0.79292694,\n",
       "       0.79453107, 0.79612034, 0.79768635, 0.79924865, 0.8007968 ,\n",
       "       0.80233246, 0.80385863, 0.80537425, 0.80686615, 0.80835495,\n",
       "       0.80982593, 0.81128867, 0.81273783, 0.81417984, 0.81560779,\n",
       "       0.81703024, 0.81845068, 0.81985084, 0.8212439 , 0.82263539,\n",
       "       0.82402588, 0.82541484, 0.826801  , 0.82818551, 0.82955   ,\n",
       "       0.83090787, 0.83225938, 0.83360837, 0.83494634, 0.83627269,\n",
       "       0.83758618, 0.83888475, 0.8401775 , 0.84146453, 0.8427354 ,\n",
       "       0.84399924, 0.84525765, 0.84649268, 0.84771415, 0.84893098,\n",
       "       0.85014232, 0.85134219, 0.8525381 , 0.85371509, 0.85488725,\n",
       "       0.85605211, 0.85720405, 0.85835274, 0.85949533, 0.86062872,\n",
       "       0.86175234, 0.86286214, 0.86394784, 0.86502912, 0.86609176,\n",
       "       0.86714765, 0.86819473, 0.8692377 , 0.87026546, 0.87128019,\n",
       "       0.87228944, 0.87328859, 0.87428196, 0.87527078, 0.87624595,\n",
       "       0.87721454, 0.87817743, 0.87913161, 0.88007736, 0.88102081,\n",
       "       0.88195673, 0.88288416, 0.88379394, 0.88469641, 0.88558764,\n",
       "       0.88646873, 0.88734551, 0.88821666, 0.88908305, 0.88994115,\n",
       "       0.89079402, 0.89163428, 0.89246359, 0.89328684, 0.8941057 ,\n",
       "       0.89492075, 0.89572964, 0.89653498, 0.89733399, 0.8981217 ,\n",
       "       0.89890293, 0.89968026, 0.90045176, 0.90120818, 0.90195958,\n",
       "       0.90270713, 0.90344618, 0.90418064, 0.90490809, 0.9056294 ,\n",
       "       0.90634108, 0.90704362, 0.90774434, 0.90844014, 0.90912808,\n",
       "       0.9098107 , 0.91049006, 0.91116627, 0.91182947, 0.91248989,\n",
       "       0.91314917, 0.91380194, 0.91444137, 0.91507909, 0.91571501,\n",
       "       0.91634572, 0.91697204, 0.91759067, 0.91820724, 0.9188158 ,\n",
       "       0.91942015, 0.92001858, 0.92060582, 0.92118667, 0.92176267,\n",
       "       0.92233582, 0.92290653, 0.92347112, 0.92403138, 0.92458852,\n",
       "       0.92513804, 0.92568514, 0.92622918, 0.92677076, 0.92730925,\n",
       "       0.92784524, 0.92837175, 0.92889663, 0.92941462, 0.92992961,\n",
       "       0.93044213, 0.93094791, 0.93145029, 0.93194893, 0.93244517,\n",
       "       0.93293957, 0.9334307 , 0.93391247, 0.93439094, 0.93486745,\n",
       "       0.93534296, 0.93581443, 0.93627534, 0.93673359, 0.93718337,\n",
       "       0.93763178, 0.93807969, 0.93852267, 0.93896147, 0.93939873,\n",
       "       0.93983134, 0.94026169, 0.94068449, 0.94110406, 0.94152088,\n",
       "       0.94193631, 0.94234866, 0.94275958, 0.94316852, 0.94357608,\n",
       "       0.94397833, 0.9443781 , 0.94477481, 0.94516646, 0.94555564,\n",
       "       0.94594321, 0.94632981, 0.94671256, 0.9470913 , 0.94746948,\n",
       "       0.94784415, 0.94821593, 0.94858589, 0.94895259, 0.94931357,\n",
       "       0.94967269, 0.95003118, 0.95038811, 0.95074357, 0.95109779,\n",
       "       0.95144965, 0.95179925, 0.95214515, 0.95248991, 0.95283039,\n",
       "       0.95316648, 0.95349984, 0.95383172, 0.95416065, 0.95448492,\n",
       "       0.95480523, 0.95512462, 0.95544178, 0.95575491, 0.95606635,\n",
       "       0.95637685, 0.95668553, 0.95699182, 0.95729684, 0.95759961,\n",
       "       0.95789904, 0.95819756, 0.95849378, 0.95878399, 0.95907295,\n",
       "       0.95935934, 0.95964444, 0.95992792, 0.96020991, 0.96049058,\n",
       "       0.96077042, 0.96104828, 0.96132369, 0.96159844, 0.96187264,\n",
       "       0.96214194, 0.96240922, 0.96267485, 0.96293969, 0.96320086,\n",
       "       0.96346   , 0.96371743, 0.96397395, 0.96422689, 0.96447666,\n",
       "       0.96472454, 0.96497215, 0.96521765, 0.96546167, 0.96570418,\n",
       "       0.96594552, 0.96618537, 0.96642285, 0.9666588 , 0.96689418,\n",
       "       0.96712706, 0.96735904, 0.96759028, 0.96781907, 0.96804715,\n",
       "       0.96827388, 0.96849948, 0.9687246 , 0.96894728, 0.96916846,\n",
       "       0.96938723, 0.969605  , 0.96982108, 0.97003623, 0.97025077,\n",
       "       0.9704642 , 0.97067435, 0.9708842 , 0.97109322, 0.9712997 ,\n",
       "       0.9715051 , 0.9717092 , 0.97191134, 0.97211143, 0.97230978,\n",
       "       0.97250791, 0.97270473, 0.97290068, 0.97309507, 0.97328639,\n",
       "       0.97347685, 0.97366672, 0.9738546 , 0.9740417 , 0.97422791,\n",
       "       0.9744135 , 0.9745968 , 0.9747791 , 0.97496011, 0.97514017,\n",
       "       0.97531847, 0.97549629, 0.97567238, 0.97584807, 0.97602276,\n",
       "       0.97619661, 0.97636959, 0.97654206, 0.9767128 , 0.97688292,\n",
       "       0.97705179, 0.97721987, 0.977386  , 0.97755135, 0.97771616,\n",
       "       0.97788034, 0.9780439 , 0.97820607, 0.97836681, 0.97852618,\n",
       "       0.97868428, 0.9788403 , 0.97899525, 0.97914953, 0.97930347,\n",
       "       0.97945668, 0.97960867, 0.97975978, 0.97991044, 0.98005997,\n",
       "       0.98020893, 0.98035723, 0.98050484, 0.98065179, 0.98079671,\n",
       "       0.98094014, 0.98108335, 0.9812256 , 0.98136688, 0.98150771,\n",
       "       0.98164801, 0.98178753, 0.98192655, 0.98206433, 0.98220196,\n",
       "       0.98233856, 0.9824746 , 0.98260879, 0.98274281, 0.9828755 ,\n",
       "       0.98300748, 0.98313898, 0.98326953, 0.98339975, 0.98352944,\n",
       "       0.98365857, 0.98378674, 0.98391427, 0.98404112, 0.9841676 ,\n",
       "       0.98429307, 0.98441786, 0.98454203, 0.98466466, 0.98478711,\n",
       "       0.98490899, 0.98503034, 0.98515089, 0.98527099, 0.98539031,\n",
       "       0.98550881, 0.98562655, 0.98574415, 0.98586105, 0.98597741,\n",
       "       0.9860932 , 0.98620806, 0.98632229, 0.98643626, 0.98654957,\n",
       "       0.9866625 , 0.98677451, 0.98688621, 0.98699705, 0.98710736,\n",
       "       0.98721692, 0.98732565, 0.98743426, 0.98754208, 0.98764952,\n",
       "       0.98775644, 0.98786319, 0.98796947, 0.98807538, 0.98818074,\n",
       "       0.98828547, 0.98838956, 0.98849282, 0.9885958 , 0.98869835,\n",
       "       0.9888003 , 0.98890146, 0.98900231, 0.98910254, 0.98920237,\n",
       "       0.98930178, 0.98940075, 0.9894989 , 0.98959635, 0.98969358,\n",
       "       0.98978995, 0.98988586, 0.98998152, 0.99007661, 0.99017122,\n",
       "       0.99026535, 0.99035899, 0.99045192, 0.99054461, 0.99063706,\n",
       "       0.99072802, 0.99081844, 0.99090833, 0.99099763, 0.99108652,\n",
       "       0.99117461, 0.9912626 , 0.99135003, 0.99143676, 0.99152236,\n",
       "       0.99160774, 0.99169293, 0.99177773, 0.99186236, 0.99194635,\n",
       "       0.99203005, 0.99211334, 0.99219601, 0.99227817, 0.99235979,\n",
       "       0.99244064, 0.99252103, 0.99260126, 0.99268066, 0.99275986,\n",
       "       0.9928386 , 0.99291676, 0.99299477, 0.99307244, 0.99314987,\n",
       "       0.99322667, 0.9933025 , 0.99337809, 0.99345349, 0.99352836,\n",
       "       0.99360281, 0.99367689, 0.99375039, 0.99382338, 0.993896  ,\n",
       "       0.99396826, 0.99403994, 0.9941116 , 0.99418276, 0.99425337,\n",
       "       0.99432327, 0.99439261, 0.99446181, 0.99453045, 0.99459872,\n",
       "       0.99466657, 0.99473417, 0.99480135, 0.99486842, 0.99493523,\n",
       "       0.99500172, 0.99506737, 0.99513297, 0.99519805, 0.99526305,\n",
       "       0.99532753, 0.99539146, 0.9954547 , 0.99551788, 0.99558063,\n",
       "       0.99564266, 0.9957043 , 0.99576579, 0.99582682, 0.99588775,\n",
       "       0.99594832, 0.99600865, 0.99606855, 0.99612799, 0.99618706,\n",
       "       0.99624544, 0.99630357, 0.99636106, 0.99641834, 0.99647541,\n",
       "       0.99653208, 0.99658846, 0.99664466, 0.99670067, 0.99675636,\n",
       "       0.9968119 , 0.99686701, 0.99692169, 0.99697582, 0.99702973,\n",
       "       0.9970832 , 0.99713637, 0.99718909, 0.99724143, 0.99729356,\n",
       "       0.99734528, 0.99739672, 0.9974476 , 0.99749836, 0.99754872,\n",
       "       0.99759895, 0.99764902, 0.99769837, 0.99774751, 0.99779654,\n",
       "       0.99784501, 0.99789341, 0.99794133, 0.99798883, 0.99803605,\n",
       "       0.99808246, 0.99812856, 0.99817457, 0.99822027, 0.99826551,\n",
       "       0.99831031, 0.99835478, 0.99839915, 0.99844306, 0.99848663,\n",
       "       0.99853005, 0.99857307, 0.99861585, 0.99865788, 0.99869972,\n",
       "       0.99874121, 0.9987824 , 0.99882339, 0.998864  , 0.99890429,\n",
       "       0.9989443 , 0.99898412, 0.99902346, 0.99906229, 0.99910097,\n",
       "       0.99913934, 0.99917744, 0.99921523, 0.99925265, 0.9992899 ,\n",
       "       0.99932646, 0.9993628 , 0.99939847, 0.99943409, 0.99946901,\n",
       "       0.99950361, 0.99953777, 0.99957183, 0.99960554, 0.9996389 ,\n",
       "       0.99967205, 0.99970489, 0.99973728, 0.99976936, 0.99980037,\n",
       "       0.9998306 , 0.9998605 , 0.99988986, 0.99991829, 0.99994451,\n",
       "       0.99997002, 0.99999001, 1.        , 1.        , 1.        ,\n",
       "       1.        , 1.        , 1.        , 1.        , 1.        ,\n",
       "       1.        , 1.        , 1.        , 1.        , 1.        ,\n",
       "       1.        , 1.        , 1.        , 1.        , 1.        ,\n",
       "       1.        , 1.        , 1.        , 1.        , 1.        ,\n",
       "       1.        , 1.        , 1.        , 1.        , 1.        ,\n",
       "       1.        , 1.        , 1.        , 1.        , 1.        ,\n",
       "       1.        , 1.        , 1.        , 1.        , 1.        ,\n",
       "       1.        , 1.        , 1.        , 1.        , 1.        ,\n",
       "       1.        , 1.        , 1.        , 1.        , 1.        ,\n",
       "       1.        , 1.        , 1.        , 1.        , 1.        ,\n",
       "       1.        , 1.        , 1.        , 1.        , 1.        ,\n",
       "       1.        , 1.        , 1.        , 1.        , 1.        ,\n",
       "       1.        , 1.        , 1.        , 1.        , 1.        ,\n",
       "       1.        , 1.        , 1.        , 1.        ])"
      ]
     },
     "execution_count": 21,
     "metadata": {},
     "output_type": "execute_result"
    }
   ],
   "source": [
    "np.cumsum(pca.explained_variance_ratio_)"
   ]
  },
  {
   "cell_type": "code",
   "execution_count": 22,
   "metadata": {},
   "outputs": [],
   "source": [
    "m = min(i for i in np.cumsum(pca.explained_variance_ratio_) if i >= .95)"
   ]
  },
  {
   "cell_type": "code",
   "execution_count": 23,
   "metadata": {},
   "outputs": [],
   "source": [
    "#generator object"
   ]
  },
  {
   "cell_type": "code",
   "execution_count": 24,
   "metadata": {},
   "outputs": [],
   "source": [
    "list_cumulative_var = np.cumsum(pca.explained_variance_ratio_).tolist()"
   ]
  },
  {
   "cell_type": "code",
   "execution_count": 25,
   "metadata": {},
   "outputs": [],
   "source": [
    "n_components = list_cumulative_var.index(m) + 1"
   ]
  },
  {
   "cell_type": "code",
   "execution_count": 26,
   "metadata": {},
   "outputs": [
    {
     "data": {
      "text/plain": [
       "332"
      ]
     },
     "execution_count": 26,
     "metadata": {},
     "output_type": "execute_result"
    }
   ],
   "source": [
    "n_components"
   ]
  },
  {
   "cell_type": "code",
   "execution_count": 27,
   "metadata": {},
   "outputs": [],
   "source": [
    "pca2 = PCA(n_components= n_components)"
   ]
  },
  {
   "cell_type": "code",
   "execution_count": 28,
   "metadata": {},
   "outputs": [
    {
     "name": "stdout",
     "output_type": "stream",
     "text": [
      "0:00:21.572667\n"
     ]
    }
   ],
   "source": [
    "start=datetime.now()\n",
    "pca2.fit(X_traintest_std)\n",
    "X_pca2 = pca2.transform(X_traintest_std)\n",
    "end=datetime.now()\n",
    "print(end-start)"
   ]
  },
  {
   "cell_type": "code",
   "execution_count": 29,
   "metadata": {},
   "outputs": [
    {
     "data": {
      "text/plain": [
       "(332, 784)"
      ]
     },
     "execution_count": 29,
     "metadata": {},
     "output_type": "execute_result"
    }
   ],
   "source": [
    "pca2.components_.shape\n",
    "#its weird how the shape is still 784 features across?"
   ]
  },
  {
   "cell_type": "code",
   "execution_count": 30,
   "metadata": {},
   "outputs": [
    {
     "data": {
      "text/plain": [
       "(70000, 332)"
      ]
     },
     "execution_count": 30,
     "metadata": {},
     "output_type": "execute_result"
    }
   ],
   "source": [
    "X_pca2.shape"
   ]
  },
  {
   "cell_type": "code",
   "execution_count": 31,
   "metadata": {},
   "outputs": [
    {
     "data": {
      "text/plain": [
       "array([0.05642719, 0.09683945, 0.13422218, 0.16315218, 0.1883597 ,\n",
       "       0.21028519, 0.22942801, 0.24683484, 0.26215716, 0.27611803,\n",
       "       0.28953978, 0.30155399, 0.31269361, 0.32359943, 0.33387928,\n",
       "       0.34382883, 0.35314139, 0.36233773, 0.37122373, 0.37985569,\n",
       "       0.3880731 , 0.39605727, 0.403683  , 0.41110615, 0.41827185,\n",
       "       0.42516499, 0.43197898, 0.43852485, 0.44479779, 0.45090124,\n",
       "       0.45687385, 0.46276689, 0.46844047, 0.47403405, 0.47955878,\n",
       "       0.48490321, 0.49017915, 0.49533756, 0.50039254, 0.50516692,\n",
       "       0.50993004, 0.51458159, 0.51911613, 0.5235737 , 0.52799683,\n",
       "       0.5323756 , 0.53674853, 0.54102577, 0.54527385, 0.54945909,\n",
       "       0.55349969, 0.55746227, 0.56139402, 0.56529964, 0.56916408,\n",
       "       0.57293908, 0.57667791, 0.5803612 , 0.58396497, 0.58752866,\n",
       "       0.59102155, 0.59446682, 0.59789921, 0.60130921, 0.60465384,\n",
       "       0.60797491, 0.61127295, 0.61446728, 0.61763838, 0.62079269,\n",
       "       0.62389209, 0.62694992, 0.63000087, 0.63304047, 0.63600682,\n",
       "       0.6389364 , 0.64184935, 0.64475167, 0.64763776, 0.65050798,\n",
       "       0.65335312, 0.65616836, 0.65896081, 0.6617471 , 0.66452943,\n",
       "       0.66729676, 0.67005095, 0.67277997, 0.67546736, 0.67814875,\n",
       "       0.68082229, 0.68345233, 0.68607387, 0.68866259, 0.69124688,\n",
       "       0.69381788, 0.69633688, 0.69884592, 0.70132685, 0.70376778,\n",
       "       0.70620385, 0.70862056, 0.71101055, 0.7133745 , 0.71573082,\n",
       "       0.71805408, 0.72034559, 0.72259851, 0.72483742, 0.72706962,\n",
       "       0.72926675, 0.73145701, 0.73361004, 0.73574451, 0.73785214,\n",
       "       0.73995337, 0.74201862, 0.74406935, 0.74609841, 0.74808748,\n",
       "       0.75006346, 0.75202933, 0.75398327, 0.75592872, 0.75785706,\n",
       "       0.75977211, 0.76166471, 0.76354871, 0.76541176, 0.76723066,\n",
       "       0.76903741, 0.7708275 , 0.77261157, 0.77438155, 0.77614008,\n",
       "       0.77788788, 0.77962092, 0.78134892, 0.78304324, 0.78471972,\n",
       "       0.78637827, 0.78802802, 0.78967405, 0.79131554, 0.79292692,\n",
       "       0.79453106, 0.79612032, 0.79768633, 0.79924863, 0.80079678,\n",
       "       0.80233244, 0.80385861, 0.80537423, 0.80686612, 0.80835493,\n",
       "       0.80982591, 0.81128864, 0.8127378 , 0.81417981, 0.81560776,\n",
       "       0.81703021, 0.81845064, 0.8198508 , 0.82124386, 0.82263535,\n",
       "       0.82402584, 0.82541479, 0.82680095, 0.82818546, 0.82954995,\n",
       "       0.83090781, 0.83225931, 0.83360831, 0.83494627, 0.83627262,\n",
       "       0.8375861 , 0.83888466, 0.84017741, 0.84146444, 0.8427353 ,\n",
       "       0.84399913, 0.84525754, 0.84649257, 0.84771403, 0.84893085,\n",
       "       0.8501422 , 0.85134206, 0.85253795, 0.85371494, 0.85488709,\n",
       "       0.85605194, 0.85720387, 0.85835254, 0.85949512, 0.8606285 ,\n",
       "       0.86175211, 0.86286189, 0.86394758, 0.86502884, 0.86609147,\n",
       "       0.86714734, 0.86819438, 0.86923731, 0.87026505, 0.87127975,\n",
       "       0.87228898, 0.87328811, 0.87428143, 0.87527022, 0.87624536,\n",
       "       0.87721387, 0.87817673, 0.87913087, 0.88007656, 0.88101998,\n",
       "       0.88195583, 0.88288323, 0.88379292, 0.88469533, 0.88558638,\n",
       "       0.8864674 , 0.8873441 , 0.88821516, 0.88908149, 0.88993952,\n",
       "       0.89079234, 0.89163249, 0.89246174, 0.89328486, 0.89410354,\n",
       "       0.89491839, 0.89572718, 0.89653239, 0.89733119, 0.89811869,\n",
       "       0.89889963, 0.8996767 , 0.900448  , 0.90120421, 0.9019554 ,\n",
       "       0.90270267, 0.90344136, 0.90417538, 0.90490244, 0.9056235 ,\n",
       "       0.90633482, 0.90703695, 0.90773739, 0.90843286, 0.90912025,\n",
       "       0.90980236, 0.91048132, 0.9111568 , 0.91181946, 0.91247893,\n",
       "       0.9131376 , 0.91378897, 0.9144277 , 0.91506508, 0.91570022,\n",
       "       0.91633003, 0.91695571, 0.91757387, 0.91818939, 0.9187974 ,\n",
       "       0.91940064, 0.91999776, 0.92058385, 0.92116266, 0.92173709,\n",
       "       0.92230861, 0.92287784, 0.92344101, 0.92399834, 0.92455353,\n",
       "       0.92510144, 0.92564659, 0.92618893, 0.92672769, 0.92726376,\n",
       "       0.92779748, 0.92832247, 0.92884317, 0.92935906, 0.92986984,\n",
       "       0.93037795, 0.93087943, 0.93137903, 0.93187283, 0.93236626,\n",
       "       0.9328567 , 0.93334285, 0.93382143, 0.93429444, 0.93476637,\n",
       "       0.93523554, 0.93569783, 0.93615341, 0.93659858, 0.93704307,\n",
       "       0.9374841 , 0.93792283, 0.93835898, 0.93879001, 0.93921682,\n",
       "       0.93964046, 0.94006257, 0.9404767 , 0.94088719, 0.94129684,\n",
       "       0.9417028 , 0.94210576, 0.94250663, 0.94290355, 0.94329587,\n",
       "       0.94368312, 0.94406805, 0.9444502 , 0.94482626, 0.94520103,\n",
       "       0.94557344, 0.94594482, 0.94631307, 0.94667639, 0.94703526,\n",
       "       0.94739129, 0.94773792, 0.94808261, 0.9484264 , 0.94876564,\n",
       "       0.94910135, 0.94943477])"
      ]
     },
     "execution_count": 31,
     "metadata": {},
     "output_type": "execute_result"
    }
   ],
   "source": [
    "np.cumsum(pca2.explained_variance_ratio_)"
   ]
  },
  {
   "cell_type": "code",
   "execution_count": 48,
   "metadata": {},
   "outputs": [],
   "source": [
    "sclr = StandardScaler()\n",
    "sclr.fit(X_traintest)\n",
    "X_train_scld = sclr.transform(X_train)\n",
    "X_test_scld = sclr.transform(test_data)"
   ]
  },
  {
   "cell_type": "code",
   "execution_count": null,
   "metadata": {},
   "outputs": [],
   "source": []
  },
  {
   "cell_type": "code",
   "execution_count": 40,
   "metadata": {},
   "outputs": [
    {
     "name": "stdout",
     "output_type": "stream",
     "text": [
      "0:00:00.829304\n"
     ]
    }
   ],
   "source": [
    "start=datetime.now()\n",
    "X_train_pca2 = pca2.transform(X_train_scld)\n",
    "end=datetime.now()\n",
    "print(end-start)\n",
    "#super fast to transform data into principal components"
   ]
  },
  {
   "cell_type": "code",
   "execution_count": 42,
   "metadata": {},
   "outputs": [
    {
     "data": {
      "text/plain": [
       "(42000, 332)"
      ]
     },
     "execution_count": 42,
     "metadata": {},
     "output_type": "execute_result"
    }
   ],
   "source": [
    "X_train_pca2.shape"
   ]
  },
  {
   "cell_type": "code",
   "execution_count": 44,
   "metadata": {},
   "outputs": [
    {
     "data": {
      "text/plain": [
       "array([[-5.23019174e+00, -4.90464555e+00,  4.17549757e+00, ...,\n",
       "        -2.68229307e-01,  3.10894812e-01,  4.55657215e-01],\n",
       "       [ 1.93760639e+01,  5.92493676e+00,  1.12452658e+00, ...,\n",
       "        -2.75297771e-01, -3.69261614e-01,  2.54606802e-01],\n",
       "       [-7.67586781e+00, -1.51833505e+00,  2.36963618e+00, ...,\n",
       "        -1.63149101e-02,  2.49358451e-01, -6.80512103e-02],\n",
       "       ...,\n",
       "       [ 6.57819204e-01,  6.42583514e+00, -1.24345051e+01, ...,\n",
       "        -1.39337099e-01, -1.36338148e-01,  1.70775281e-01],\n",
       "       [ 2.33776162e+00, -4.34597726e+00,  9.51138546e-01, ...,\n",
       "         3.01412249e-01, -2.40304746e-01,  1.20491886e-01],\n",
       "       [-4.73693480e+00,  1.50922231e+00, -2.61780300e+00, ...,\n",
       "        -3.07693265e-01, -4.43856329e-01,  2.98892185e-01]])"
      ]
     },
     "execution_count": 44,
     "metadata": {},
     "output_type": "execute_result"
    }
   ],
   "source": [
    "X_train_pca2"
   ]
  },
  {
   "cell_type": "code",
   "execution_count": 117,
   "metadata": {},
   "outputs": [
    {
     "name": "stdout",
     "output_type": "stream",
     "text": [
      "0:00:11.207026\n"
     ]
    }
   ],
   "source": [
    "rfc2 = RandomForestClassifier(n_estimators = 10, max_features='sqrt',random_state = 0, bootstrap=True)\n",
    "start=datetime.now()\n",
    "rfc2.fit(X=X_train_pca2,y=y_train)\n",
    "end=datetime.now()\n",
    "print(end-start)"
   ]
  },
  {
   "cell_type": "code",
   "execution_count": 112,
   "metadata": {},
   "outputs": [],
   "source": [
    "X_test_pca2 = pca2.transform(X_test_scld)"
   ]
  },
  {
   "cell_type": "code",
   "execution_count": 113,
   "metadata": {
    "scrolled": true
   },
   "outputs": [
    {
     "name": "stdout",
     "output_type": "stream",
     "text": [
      "0:00:00.160512\n"
     ]
    }
   ],
   "source": [
    "start=datetime.now()\n",
    "y_test_pca2 = rfc2.predict(X_test_pca2)\n",
    "y_test_pca2.shape\n",
    "end=datetime.now()\n",
    "print(end-start)"
   ]
  },
  {
   "cell_type": "code",
   "execution_count": 114,
   "metadata": {},
   "outputs": [
    {
     "name": "stdout",
     "output_type": "stream",
     "text": [
      "range(1, 28000)\n"
     ]
    }
   ],
   "source": [
    "print(range(1,28000))"
   ]
  },
  {
   "cell_type": "code",
   "execution_count": 115,
   "metadata": {
    "scrolled": true
   },
   "outputs": [
    {
     "data": {
      "text/html": [
       "<div>\n",
       "<style scoped>\n",
       "    .dataframe tbody tr th:only-of-type {\n",
       "        vertical-align: middle;\n",
       "    }\n",
       "\n",
       "    .dataframe tbody tr th {\n",
       "        vertical-align: top;\n",
       "    }\n",
       "\n",
       "    .dataframe thead th {\n",
       "        text-align: right;\n",
       "    }\n",
       "</style>\n",
       "<table border=\"1\" class=\"dataframe\">\n",
       "  <thead>\n",
       "    <tr style=\"text-align: right;\">\n",
       "      <th></th>\n",
       "      <th>Label</th>\n",
       "    </tr>\n",
       "    <tr>\n",
       "      <th>ImageId</th>\n",
       "      <th></th>\n",
       "    </tr>\n",
       "  </thead>\n",
       "  <tbody>\n",
       "    <tr>\n",
       "      <th>1</th>\n",
       "      <td>2</td>\n",
       "    </tr>\n",
       "    <tr>\n",
       "      <th>2</th>\n",
       "      <td>0</td>\n",
       "    </tr>\n",
       "    <tr>\n",
       "      <th>3</th>\n",
       "      <td>9</td>\n",
       "    </tr>\n",
       "    <tr>\n",
       "      <th>4</th>\n",
       "      <td>7</td>\n",
       "    </tr>\n",
       "    <tr>\n",
       "      <th>5</th>\n",
       "      <td>3</td>\n",
       "    </tr>\n",
       "  </tbody>\n",
       "</table>\n",
       "</div>"
      ],
      "text/plain": [
       "         Label\n",
       "ImageId       \n",
       "1            2\n",
       "2            0\n",
       "3            9\n",
       "4            7\n",
       "5            3"
      ]
     },
     "execution_count": 115,
     "metadata": {},
     "output_type": "execute_result"
    }
   ],
   "source": [
    "test_output2 = pd.DataFrame(y_test_pca2,index=range(1,28001))\n",
    "test_output2.index.name = 'ImageId'\n",
    "test_output2.columns = ['Label']\n",
    "\n",
    "test_output2.head()"
   ]
  },
  {
   "cell_type": "code",
   "execution_count": 116,
   "metadata": {},
   "outputs": [],
   "source": [
    "test_output2.to_csv('MINST_submission_pca_rf.csv',index=True)"
   ]
  },
  {
   "cell_type": "code",
   "execution_count": 119,
   "metadata": {},
   "outputs": [],
   "source": [
    "from sklearn.model_selection import cross_val_score"
   ]
  },
  {
   "cell_type": "code",
   "execution_count": 125,
   "metadata": {},
   "outputs": [
    {
     "name": "stderr",
     "output_type": "stream",
     "text": [
      "C:\\Users\\jackm\\Anaconda3\\lib\\site-packages\\ipykernel_launcher.py:7: RuntimeWarning: invalid value encountered in sqrt\n",
      "  import sys\n"
     ]
    }
   ],
   "source": [
    "modelname = []\n",
    "rmsescore = []\n",
    "stdrmsescore = []\n",
    "\n",
    "for model in [rfc]:\n",
    "    scores = cross_val_score(model, X_train, y_train, scoring = \"f1_macro\", cv = 5)\n",
    "    rmse_scores = np.sqrt(-scores)\n",
    "    modelname.append(model.__class__.__name__)\n",
    "    rmsescore.append(round(rmse_scores.mean(),3))\n",
    "    stdrmsescore.append(round(rmse_scores.std(),3))"
   ]
  },
  {
   "cell_type": "code",
   "execution_count": 129,
   "metadata": {},
   "outputs": [
    {
     "data": {
      "text/plain": [
       "0.9372450483392022"
      ]
     },
     "execution_count": 129,
     "metadata": {},
     "output_type": "execute_result"
    }
   ],
   "source": [
    "scores.mean()"
   ]
  },
  {
   "cell_type": "code",
   "execution_count": 130,
   "metadata": {},
   "outputs": [
    {
     "data": {
      "text/plain": [
       "0.002717251745846525"
      ]
     },
     "execution_count": 130,
     "metadata": {},
     "output_type": "execute_result"
    }
   ],
   "source": [
    "scores.std()"
   ]
  },
  {
   "cell_type": "code",
   "execution_count": 137,
   "metadata": {},
   "outputs": [
    {
     "name": "stderr",
     "output_type": "stream",
     "text": [
      "C:\\Users\\jackm\\Anaconda3\\lib\\site-packages\\ipykernel_launcher.py:7: RuntimeWarning: invalid value encountered in sqrt\n",
      "  import sys\n"
     ]
    }
   ],
   "source": [
    "modelname = []\n",
    "rmsescore = []\n",
    "stdrmsescore = []\n",
    "\n",
    "for model in [rfc2]:\n",
    "    scores = cross_val_score(model, X_train_pca2, y_train, scoring = \"f1_micro\", cv = 5)\n",
    "    rmse_scores = np.sqrt(-scores)\n",
    "    modelname.append(model.__class__.__name__)\n",
    "    rmsescore.append(round(rmse_scores.mean(),3))\n",
    "    stdrmsescore.append(round(rmse_scores.std(),3))"
   ]
  },
  {
   "cell_type": "code",
   "execution_count": 132,
   "metadata": {},
   "outputs": [
    {
     "data": {
      "text/plain": [
       "0.8594304363532966"
      ]
     },
     "execution_count": 132,
     "metadata": {},
     "output_type": "execute_result"
    }
   ],
   "source": [
    "scores.mean()"
   ]
  },
  {
   "cell_type": "code",
   "execution_count": 133,
   "metadata": {},
   "outputs": [
    {
     "data": {
      "text/plain": [
       "0.0032690605390603175"
      ]
     },
     "execution_count": 133,
     "metadata": {},
     "output_type": "execute_result"
    }
   ],
   "source": [
    "scores.std()"
   ]
  },
  {
   "cell_type": "code",
   "execution_count": null,
   "metadata": {},
   "outputs": [],
   "source": []
  }
 ],
 "metadata": {
  "kernelspec": {
   "display_name": "Python 3",
   "language": "python",
   "name": "python3"
  },
  "language_info": {
   "codemirror_mode": {
    "name": "ipython",
    "version": 3
   },
   "file_extension": ".py",
   "mimetype": "text/x-python",
   "name": "python",
   "nbconvert_exporter": "python",
   "pygments_lexer": "ipython3",
   "version": "3.7.4"
  }
 },
 "nbformat": 4,
 "nbformat_minor": 2
}
